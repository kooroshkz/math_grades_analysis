{
 "cells": [
  {
   "cell_type": "markdown",
   "id": "f4c3b6fd-c569-4b40-ae35-8bc31b21b90e",
   "metadata": {},
   "source": [
    "<img src=\"https://www.irangi.org/uploads/images/4_1560089256_1291127534.png\" style=\"display: block;margin-left: auto;margin-right: auto;width: 20%;\">"
   ]
  },
  {
   "cell_type": "markdown",
   "id": "eb9c1fa8-6922-44ea-bb21-64c15117075e",
   "metadata": {},
   "source": [
    "<h2 style=\"text-align: center;\">Exploring Academic Performance in General Mathematics 1</h2>\n",
    "<h3 style=\"text-align: center;\">A Case Study of Students at AmirKabir University of Technology</h3>\n",
    "<h4 style=\"text-align: center;\">by Koorosh Komeilizadeh</h4>"
   ]
  },
  {
   "cell_type": "markdown",
   "id": "f50a063b-4b46-42f6-80f0-5e4d4fe6a515",
   "metadata": {},
   "source": [
    "## Project Introduction\n",
    "<p>We intend to perform an analysis on the performance of students and instructors in the grading process of General Mathematics 1 for the 1401 academic year at AmirKabir University of Technology. After retrieving and cleaning the data from a dataset provided by the Faculty of Mathematics and Computer Science at AmirKabir University of Technology, we will proceed with comparing trends and examining the information.</p>"
   ]
  },
  {
   "cell_type": "markdown",
   "id": "4d4ad666-2a72-4d6a-b2b0-2b0d49a373cc",
   "metadata": {},
   "source": [
    "## Outlines\n",
    "- [1 Preview](#Preview)\n",
    "    - [&nbsp;&nbsp;1.1 Dataset](#Dataset)\n",
    "    - [&nbsp;&nbsp;1.2 Goals](#Goals)\n",
    "    - [&nbsp;&nbsp;1.3 Tools](#Tools)\n",
    "- [2 Data Processing](#Data_Processing)\n",
    "    - [&nbsp;&nbsp;2.1 Matrix X containing our examples](#toc_15456_2.1)\n",
    "    - [&nbsp;&nbsp;2.2 Parameter vector w, b](#toc_15456_2.2)\n",
    "- [3 Model Prediction With Multiple Variables](#toc_15456_3)\n",
    "    - [&nbsp;&nbsp;3.1 Single Prediction element by element](#toc_15456_3.1)\n",
    "    - [&nbsp;&nbsp;3.2 Single Prediction, vector](#toc_15456_3.2)\n",
    "- [4 Compute Cost With Multiple Variables](#toc_15456_4)\n",
    "- [5 Gradient Descent With Multiple Variables](#toc_15456_5)\n",
    "    - [&nbsp;&nbsp;5.1 Compute Gradient with Multiple Variables](#toc_15456_5.1)\n",
    "    - [&nbsp;&nbsp;5.2 Gradient Descent With Multiple Variables](#toc_15456_5.2)\n",
    "- [6 Congratulations](#toc_15456_6)\n"
   ]
  },
  {
   "cell_type": "markdown",
   "id": "934272d0-bdbf-4d19-b01a-0ccfb36c4ca4",
   "metadata": {},
   "source": [
    "<a name=\"Preview\"></a>\n",
    "## Preview"
   ]
  },
  {
   "cell_type": "markdown",
   "id": "f965966e-2e64-4cc7-bce3-6729aafabbc1",
   "metadata": {},
   "source": [
    "<a name=\"Dataset\"></a>\n",
    "### 1.1 Dataset\n",
    "The Faculty of Mathematics and Computer Science at AmirKabir University of Technology provides reports in Excel format to transparently disclose students' detailed grades for each semester. We aim to import this data into a data frame, perform data cleaning, and eliminate any outliers to conduct appropriate data analysis.\n"
   ]
  },
  {
   "cell_type": "markdown",
   "id": "d41551d8-535a-4127-a8c5-d35a559ba2b0",
   "metadata": {},
   "source": [
    "<a name=\"Goals\"></a>\n",
    "### 1.2 Goals\n",
    "    - Correlation between Instructor Engagement and Average Grades\n",
    "    - The Relationship Between Student Major and Grade Status\n",
    "    - Correlation between Registration Type and Student Grades"
   ]
  },
  {
   "cell_type": "markdown",
   "id": "47f1a906-26b1-4202-a1a9-3087e75d88f1",
   "metadata": {},
   "source": [
    "<a name=\"Tools\"></a>\n",
    "### 1.3 Tools\n",
    " - ##### Pandas\n",
    "Utilized to convert the data into a data frame format, enabling efficient data cleaning and storage.\n",
    " - ##### Numpy\n",
    "     Employed for advanced mathematical functions and array operations.\n",
    " - ##### Matplotlib\n",
    "     Used for data visualization and generating various types of plots and graphs to better understand the data.\n",
    " - ##### Scikit-learn\n",
    "     Applied to develop Linear regression models for predictive analysis.\n",
    "     "
   ]
  },
  {
   "cell_type": "markdown",
   "id": "49698060-ae1a-4021-a44a-333b1ca509f1",
   "metadata": {},
   "source": [
    "<a name=\"Data_Processing\"></a>\n",
    "## Data Processing"
   ]
  },
  {
   "cell_type": "markdown",
   "id": "541c8add-b496-45eb-82cf-2a6baac73b27",
   "metadata": {},
   "source": [
    "<a name=\"Dataset\"></a>\n",
    "### 1.1 Import Data\n",
    "Importing data from excel file."
   ]
  }
 ],
 "metadata": {
  "kernelspec": {
   "display_name": "Python 3 (ipykernel)",
   "language": "python",
   "name": "python3"
  },
  "language_info": {
   "codemirror_mode": {
    "name": "ipython",
    "version": 3
   },
   "file_extension": ".py",
   "mimetype": "text/x-python",
   "name": "python",
   "nbconvert_exporter": "python",
   "pygments_lexer": "ipython3",
   "version": "3.10.9"
  }
 },
 "nbformat": 4,
 "nbformat_minor": 5
}
